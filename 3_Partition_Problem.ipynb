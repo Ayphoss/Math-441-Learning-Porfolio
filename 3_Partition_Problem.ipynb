{
  "cells": [
    {
      "cell_type": "markdown",
      "id": "ce3b1565-76b1-4dea-8472-0365cba583d0",
      "metadata": {
        "id": "ce3b1565-76b1-4dea-8472-0365cba583d0"
      },
      "source": [
        "# 3-Partition Problem"
      ]
    },
    {
      "cell_type": "code",
      "execution_count": null,
      "id": "65f3e677-1c46-4276-bbf1-d435a3ede236",
      "metadata": {
        "id": "65f3e677-1c46-4276-bbf1-d435a3ede236"
      },
      "outputs": [],
      "source": [
        "import random\n",
        "import numpy as np"
      ]
    },
    {
      "cell_type": "code",
      "execution_count": null,
      "id": "6531ac86-955d-41b1-b669-48774bd03319",
      "metadata": {
        "id": "6531ac86-955d-41b1-b669-48774bd03319"
      },
      "outputs": [],
      "source": [
        "# Node object to form the graph to search.\n",
        "class Node(object):\n",
        "    \n",
        "    def __init__(self, name, subset, value):\n",
        "        self.name = name\n",
        "        self.subset = subset\n",
        "        self.value = value\n",
        "        self.children = []\n",
        "        \n",
        "    def add_child(self, obj):\n",
        "        self.children.append(obj)"
      ]
    },
    {
      "cell_type": "code",
      "execution_count": null,
      "id": "0e1c21ec-442a-445a-a484-aa478211ef39",
      "metadata": {
        "id": "0e1c21ec-442a-445a-a484-aa478211ef39"
      },
      "outputs": [],
      "source": [
        "def tpp_sovle(S):\n",
        "    \n",
        "\n",
        "    # See if this problem can even be divided into tripplets\n",
        "    m = len(S) / 3\n",
        "    \n",
        "    # Base Case\n",
        "    if not (len(S) % 3 == 0):\n",
        "        return False, None\n",
        "    \n",
        "\n",
        "    T = np.sum(S) / m\n",
        "    \n",
        "    soln = []\n",
        "    \n",
        "    root = Node('root', None, -1)\n",
        "    \n",
        "    tree = create_tree(root, S, m)\n",
        "    \n",
        "    \n",
        "    return find_soln(tree, m)\n",
        "    \n",
        "# Beginning of search using DFS with pruning\n",
        "def find_soln(tree, m):\n",
        "    # Frontier is a list data structure, but due to how items are added and how we pop from the list we get stack like structure\n",
        "    frontier = [[tree]]\n",
        "    while len(frontier) > 0:\n",
        "        #\n",
        "        path = frontier.pop()\n",
        "        if check_path(path, m):\n",
        "            return True, path\n",
        "        else:\n",
        "            for c in path[-1].children:\n",
        "                child_path = path.copy()\n",
        "                child_path.append(c)\n",
        "                frontier.append(child_path)\n",
        "    return False, None\n",
        "    \n",
        "# Checks whether the constructed solutions are valid\n",
        "def check_path(path, m):\n",
        "\n",
        "    path = path[1:]\n",
        "    m = int(m)\n",
        "\n",
        "    subsets = []\n",
        "\n",
        "    for i in range(0,m):\n",
        "        subsets.append([])\n",
        "\n",
        "    for node in path:\n",
        "        subsets[node.subset].append(node.value)\n",
        "\n",
        "    x = sum(subsets[0])\n",
        "    \n",
        "    for subset in subsets:\n",
        "        if len(subset) != 3:\n",
        "          return False\n",
        "        if sum(subset) != x:\n",
        "            return False\n",
        "        \n",
        "    return True\n",
        "\n",
        "# Creates the tree of assignments,  \n",
        "def create_tree(root, S, m):\n",
        "    \n",
        "    m = int(m)\n",
        "    \n",
        "    if len(S) == 0:\n",
        "        return root\n",
        "    \n",
        "    for i in range(0,m):\n",
        "        child = Node('%s - %s'%(i, S[0]), i, S[0])\n",
        "        root.add_child(create_tree(child, S[1:], m))\n",
        "    return root"
      ]
    },
    {
      "cell_type": "code",
      "source": [
        "# A fail test case\n",
        "solution = tpp_sovle([4, 4, 4, 6, 6, 6])\n",
        "\n",
        "print(solution[0])"
      ],
      "metadata": {
        "colab": {
          "base_uri": "https://localhost:8080/"
        },
        "id": "vSzPafUjz3m5",
        "outputId": "83972bc8-e6a5-4da4-c579-434f5b47fbe7"
      },
      "id": "vSzPafUjz3m5",
      "execution_count": null,
      "outputs": [
        {
          "output_type": "stream",
          "name": "stdout",
          "text": [
            "False\n"
          ]
        }
      ]
    },
    {
      "cell_type": "code",
      "execution_count": null,
      "id": "789000cc-659f-4b48-9b85-509450a0145a",
      "metadata": {
        "colab": {
          "base_uri": "https://localhost:8080/"
        },
        "id": "789000cc-659f-4b48-9b85-509450a0145a",
        "outputId": "e15ebeea-0024-4d60-c068-dd5c5b041d49"
      },
      "outputs": [
        {
          "output_type": "stream",
          "name": "stdout",
          "text": [
            "[<__main__.Node object at 0x7f0135032370>, <__main__.Node object at 0x7f0135032d00>, <__main__.Node object at 0x7f013504c760>, <__main__.Node object at 0x7f01350423d0>, <__main__.Node object at 0x7f0135042910>, <__main__.Node object at 0x7f0135042a00>, <__main__.Node object at 0x7f0135042a90>]\n",
            "1\n",
            "5\n",
            "9\n",
            "2\n",
            "6\n",
            "7\n",
            "[[2, 6, 7], [1, 5, 9]]\n"
          ]
        }
      ],
      "source": [
        "# A pass test case\n",
        "solution = tpp_sovle([1, 5, 9, 2, 6, 7])\n",
        "\n",
        "soln = [[], []]\n",
        "\n",
        "for node in solution[1][1:]:\n",
        "  soln[node.subset].append(node.value)\n",
        "\n",
        "print(soln)"
      ]
    },
    {
      "cell_type": "code",
      "execution_count": null,
      "id": "cf64fc3b-59ae-4be8-bb1e-b9dc9f717799",
      "metadata": {
        "id": "cf64fc3b-59ae-4be8-bb1e-b9dc9f717799",
        "outputId": "fdfaf77b-cd0f-4eed-e72a-3494f5b87714"
      },
      "outputs": [
        {
          "name": "stdout",
          "output_type": "stream",
          "text": [
            "[12, 10, 5, 26]\n"
          ]
        }
      ],
      "source": [
        "\n",
        "# A function to generate your own set of numbers, change x to set the total value and change the number of elements you want total that sum upto x\n",
        "x = 53\n",
        "n = 4\n",
        "\n",
        "while True:\n",
        "    pick = random.sample(range(1, x), n)\n",
        "    if sum(pick) == x:\n",
        "        break\n",
        "result = pick\n",
        "\n",
        "print(pick)"
      ]
    },
    {
      "cell_type": "code",
      "execution_count": null,
      "id": "c41d1c1f-8870-4ec7-81e3-cbb80961643f",
      "metadata": {
        "id": "c41d1c1f-8870-4ec7-81e3-cbb80961643f"
      },
      "outputs": [],
      "source": []
    }
  ],
  "metadata": {
    "kernelspec": {
      "display_name": "Python 3 (ipykernel)",
      "language": "python",
      "name": "python3"
    },
    "language_info": {
      "codemirror_mode": {
        "name": "ipython",
        "version": 3
      },
      "file_extension": ".py",
      "mimetype": "text/x-python",
      "name": "python",
      "nbconvert_exporter": "python",
      "pygments_lexer": "ipython3",
      "version": "3.10.6"
    },
    "colab": {
      "provenance": []
    }
  },
  "nbformat": 4,
  "nbformat_minor": 5
}